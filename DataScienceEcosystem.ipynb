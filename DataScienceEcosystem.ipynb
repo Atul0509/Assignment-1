{
 "cells": [
  {
   "cell_type": "markdown",
   "id": "d333cebe",
   "metadata": {},
   "source": [
    "# Data Science Tools and Ecosystem"
   ]
  },
  {
   "cell_type": "markdown",
   "id": "d69fb491",
   "metadata": {},
   "source": [
    "**Objectives:**\n",
    "- List popular languages for Data Science.\n",
    "- List of the commonly used libraries used by Data Scientists.\n",
    "- List of Data Science Tools."
   ]
  },
  {
   "cell_type": "markdown",
   "id": "668d1e6c",
   "metadata": {},
   "source": [
    "In this notebook, Data Science Tools and Ecosystem are summarized."
   ]
  },
  {
   "cell_type": "markdown",
   "id": "d2629162",
   "metadata": {},
   "source": [
    "Some of the popular languages that Data Scientists use are:\n",
    "    \n",
    "    1. Python\n",
    "    2. R\n",
    "    3. SQL\n",
    "    4. Julia\n",
    "    5. Java"
   ]
  },
  {
   "cell_type": "markdown",
   "id": "73956d41",
   "metadata": {},
   "source": [
    "\n",
    "   Some of the commonly used libraries used by Data Scientists include:\n",
    " \n",
    "   1. TensorFlow\n",
    "   2. NumPy\n",
    "   3. Scipy\n",
    "   4. Pandas\n",
    "   "
   ]
  },
  {
   "cell_type": "markdown",
   "id": "bf69b9ed",
   "metadata": {},
   "source": [
    "|S.No.|Data Science Tools|\n",
    "| ----|------------------|\n",
    " |1|Apache Spark|\n",
    " |2|RStudio|\n",
    " |3|TensorFlow|\n",
    " \n",
    "    "
   ]
  },
  {
   "cell_type": "markdown",
   "id": "a3c5c5ff",
   "metadata": {},
   "source": [
    "### Below are a few examples of evaluating arithmetic expressions in Python"
   ]
  },
  {
   "cell_type": "code",
   "execution_count": 1,
   "id": "bb3b4653",
   "metadata": {},
   "outputs": [
    {
     "data": {
      "text/plain": [
       "17"
      ]
     },
     "execution_count": 1,
     "metadata": {},
     "output_type": "execute_result"
    }
   ],
   "source": [
    "#This a simple arithmetic expression to mutiply then add integers.\n",
    "(3*4)+5"
   ]
  },
  {
   "cell_type": "code",
   "execution_count": 4,
   "id": "68a27f88",
   "metadata": {},
   "outputs": [
    {
     "name": "stdout",
     "output_type": "stream",
     "text": [
      "3.3333333333333335\n"
     ]
    }
   ],
   "source": [
    "#This will convert 200 minutes to hours by diving by 60\n",
    "mtoh = 200/60\n",
    "print(mtoh)"
   ]
  },
  {
   "cell_type": "markdown",
   "id": "e8b10c60",
   "metadata": {},
   "source": [
    "### Author\n",
    "Atul Awadhiya"
   ]
  },
  {
   "cell_type": "code",
   "execution_count": null,
   "id": "9df5fb11",
   "metadata": {},
   "outputs": [],
   "source": []
  }
 ],
 "metadata": {
  "kernelspec": {
   "display_name": "Python 3 (ipykernel)",
   "language": "python",
   "name": "python3"
  },
  "language_info": {
   "codemirror_mode": {
    "name": "ipython",
    "version": 3
   },
   "file_extension": ".py",
   "mimetype": "text/x-python",
   "name": "python",
   "nbconvert_exporter": "python",
   "pygments_lexer": "ipython3",
   "version": "3.10.9"
  }
 },
 "nbformat": 4,
 "nbformat_minor": 5
}
